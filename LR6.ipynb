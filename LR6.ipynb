{
 "cells": [
  {
   "cell_type": "code",
   "execution_count": 1,
   "metadata": {},
   "outputs": [],
   "source": [
    "import numpy as np\n",
    "import random"
   ]
  },
  {
   "cell_type": "code",
   "execution_count": 2,
   "metadata": {},
   "outputs": [],
   "source": [
    "\n",
    "def polynomial_division_remainder(dividend, divisor):\n",
    "    remainder = np.array(dividend, dtype=int)\n",
    "    len_divisor = len(divisor)\n",
    "    \n",
    "    for i in range(len(remainder) - len_divisor + 1):\n",
    "        if remainder[i] != 0:\n",
    "            remainder[i:i+len_divisor] ^= divisor\n",
    "    \n",
    "    return remainder[-(len_divisor-1):]\n",
    "\n",
    "def polynomial_multiply(A, B):\n",
    "    result = np.zeros(len(A) + len(B) - 1, dtype=int)\n",
    "    for i in range(len(A)):\n",
    "        result[i:i+len(B)] ^= A[i] * B\n",
    "    return result\n",
    "\n",
    "def introduce_and_fix_error(a, g, error_rate):\n",
    "    print(\"Входное сообщение:      \", a)\n",
    "    print(\"Порождающий полином:    \", g)\n",
    "\n",
    "    v = polynomial_multiply(a, g)\n",
    "    print(\"Отправленное сообщение: \", v)\n",
    "\n",
    "    w = v.copy()\n",
    "    error = np.zeros(len(w), dtype=int)\n",
    "    error_indices = random.sample(range(len(w)), error_rate)\n",
    "    error[error_indices] = 1\n",
    "\n",
    "    w = (w + error) % 2\n",
    "    print(\"Сообщение с ошибкой:    \", w)\n",
    "\n",
    "    s = polynomial_division_remainder(w, g)\n",
    "    \n",
    "    if len(g) == 4:  \n",
    "        for i in range(len(w)):\n",
    "            e = np.zeros(len(w), dtype=int)\n",
    "            e[i] = 1\n",
    "            if np.array_equal(polynomial_division_remainder(e, g), s):\n",
    "                w[i] ^= 1\n",
    "                break\n",
    "    else:  \n",
    "        for i in range(len(w)):\n",
    "            e = np.zeros(len(w), dtype=int)\n",
    "            e[i] = 1\n",
    "            if np.array_equal(polynomial_division_remainder(e, g), s):\n",
    "                w[i] ^= 1\n",
    "                break\n",
    "\n",
    "        if np.array_equal(polynomial_division_remainder(w, g), np.zeros(len(g)-1, dtype=int)) == False:\n",
    "            for i in range(len(w)):\n",
    "                for j in range(i+1, len(w)):\n",
    "                    e = np.zeros(len(w), dtype=int)\n",
    "                    e[i] = 1\n",
    "                    e[j] = 1\n",
    "                    if np.array_equal(polynomial_division_remainder(e, g), s):\n",
    "                        w[i] ^= 1\n",
    "                        w[j] ^= 1\n",
    "                        break\n",
    "                if np.array_equal(polynomial_division_remainder(w, g), np.zeros(len(g)-1, dtype=int)):\n",
    "                    break\n",
    "\n",
    "    print(\"Исправленное сообщение: \", w)\n",
    "    \n",
    "    if np.array_equal(v, w):\n",
    "        print(\"Ошибка исправлена корректно\")\n",
    "    else:\n",
    "        print(\"Ошибка исправлена некорректно\")\n",
    "    print()\n"
   ]
  },
  {
   "cell_type": "code",
   "execution_count": 3,
   "metadata": {},
   "outputs": [
    {
     "name": "stdout",
     "output_type": "stream",
     "text": [
      "Входное сообщение:       [1 0 0 1]\n",
      "Порождающий полином:     [1 0 1 1]\n",
      "Отправленное сообщение:  [1 0 1 0 0 1 1]\n",
      "Сообщение с ошибкой:     [0 0 1 0 0 1 1]\n",
      "Исправленное сообщение:  [1 0 1 0 0 1 1]\n",
      "Ошибка исправлена корректно\n",
      "\n"
     ]
    }
   ],
   "source": [
    "\n",
    "a = np.array([1, 0, 0, 1])\n",
    "g = np.array([1, 0, 1, 1])\n",
    "\n",
    "introduce_and_fix_error(a, g, 1)\n"
   ]
  },
  {
   "cell_type": "code",
   "execution_count": 4,
   "metadata": {},
   "outputs": [
    {
     "name": "stdout",
     "output_type": "stream",
     "text": [
      "Входное сообщение:       [1 0 0 1]\n",
      "Порождающий полином:     [1 0 1 1]\n",
      "Отправленное сообщение:  [1 0 1 0 0 1 1]\n",
      "Сообщение с ошибкой:     [1 0 1 0 1 0 1]\n",
      "Исправленное сообщение:  [1 0 0 0 1 0 1]\n",
      "Ошибка исправлена некорректно\n",
      "\n"
     ]
    }
   ],
   "source": [
    "introduce_and_fix_error(a, g, 2)\n"
   ]
  },
  {
   "cell_type": "code",
   "execution_count": 5,
   "metadata": {},
   "outputs": [
    {
     "name": "stdout",
     "output_type": "stream",
     "text": [
      "Входное сообщение:       [1 0 0 1]\n",
      "Порождающий полином:     [1 0 1 1]\n",
      "Отправленное сообщение:  [1 0 1 0 0 1 1]\n",
      "Сообщение с ошибкой:     [1 0 1 1 1 1 0]\n",
      "Исправленное сообщение:  [1 0 0 1 1 1 0]\n",
      "Ошибка исправлена некорректно\n",
      "\n"
     ]
    }
   ],
   "source": [
    "introduce_and_fix_error(a, g, 3)"
   ]
  },
  {
   "cell_type": "code",
   "execution_count": 6,
   "metadata": {},
   "outputs": [
    {
     "name": "stdout",
     "output_type": "stream",
     "text": [
      "Входное сообщение:       [1 0 0 1 0 0 0 1 1]\n",
      "Порождающий полином:     [1 0 0 1 1 1 1]\n",
      "Отправленное сообщение:  [1 0 0 0 1 1 0 0 0 1 1 0 0 0 1]\n",
      "Сообщение с ошибкой:     [0 0 0 0 1 1 0 0 0 1 1 0 0 0 1]\n",
      "Исправленное сообщение:  [1 0 0 0 1 1 0 0 0 1 1 0 0 0 1]\n",
      "Ошибка исправлена корректно\n",
      "\n"
     ]
    }
   ],
   "source": [
    "\n",
    "a_2 = np.array([1, 0, 0, 1, 0, 0, 0, 1, 1])\n",
    "g_2 = np.array([1, 0, 0, 1, 1, 1, 1])\n",
    "\n",
    "introduce_and_fix_error(a_2, g_2, 1)\n"
   ]
  },
  {
   "cell_type": "code",
   "execution_count": 46,
   "metadata": {},
   "outputs": [
    {
     "name": "stdout",
     "output_type": "stream",
     "text": [
      "Входное сообщение:       [1 0 0 1 0 0 0 1 1]\n",
      "Порождающий полином:     [1 0 0 1 1 1 1]\n",
      "Отправленное сообщение:  [1 0 0 0 1 1 0 0 0 1 1 0 0 0 1]\n",
      "Сообщение с ошибкой:     [1 0 0 0 0 1 0 1 0 1 1 0 0 0 1]\n",
      "Исправленное сообщение:  [1 0 0 0 1 1 0 0 0 1 1 0 0 0 1]\n",
      "Ошибка исправлена корректно\n",
      "\n"
     ]
    }
   ],
   "source": [
    "introduce_and_fix_error(a_2, g_2, 2)"
   ]
  },
  {
   "cell_type": "code",
   "execution_count": 48,
   "metadata": {},
   "outputs": [
    {
     "name": "stdout",
     "output_type": "stream",
     "text": [
      "Входное сообщение:       [1 0 0 1 0 0 0 1 1]\n",
      "Порождающий полином:     [1 0 0 1 1 1 1]\n",
      "Отправленное сообщение:  [1 0 0 0 1 1 0 0 0 1 1 0 0 0 1]\n",
      "Сообщение с ошибкой:     [1 0 0 0 0 1 0 0 0 1 0 0 1 0 1]\n",
      "Исправленное сообщение:  [1 1 0 0 0 1 0 0 0 1 0 0 1 0 0]\n",
      "Ошибка исправлена некорректно\n",
      "\n"
     ]
    }
   ],
   "source": [
    "introduce_and_fix_error(a_2, g_2, 3)"
   ]
  }
 ],
 "metadata": {
  "kernelspec": {
   "display_name": "Python 3",
   "language": "python",
   "name": "python3"
  },
  "language_info": {
   "codemirror_mode": {
    "name": "ipython",
    "version": 3
   },
   "file_extension": ".py",
   "mimetype": "text/x-python",
   "name": "python",
   "nbconvert_exporter": "python",
   "pygments_lexer": "ipython3",
   "version": "3.13.0"
  }
 },
 "nbformat": 4,
 "nbformat_minor": 2
}
